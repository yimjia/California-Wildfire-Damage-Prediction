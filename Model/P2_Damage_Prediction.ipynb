{
 "cells": [
  {
   "cell_type": "markdown",
   "metadata": {},
   "source": [
    "# Part 2: Wildfire Damage Prediction\n",
    "<b/>"
   ]
  },
  {
   "cell_type": "code",
   "execution_count": null,
   "metadata": {},
   "outputs": [],
   "source": [
    "# File directory: Specify the full path to the folder containing the downloaded source code\n",
    "file_dir = 'C:/Users/jiayi/Desktop/CA Wildfire Damage Prediction/'"
   ]
  },
  {
   "cell_type": "code",
   "execution_count": null,
   "metadata": {},
   "outputs": [],
   "source": [
    "# Load packages\n",
    "import os\n",
    "import numpy as np\n",
    "from scipy.io import loadmat\n",
    "from tensorflow.keras import models, layers, regularizers, initializers\n",
    "from tensorflow.keras.layers import Input, Dense, Dropout, LeakyReLU\n",
    "from tensorflow.keras.models import Model"
   ]
  },
  {
   "cell_type": "code",
   "execution_count": null,
   "metadata": {},
   "outputs": [],
   "source": [
    "# Load data\n",
    "Data_User = loadmat(file_dir + 'Data1_User_Input.mat')\n",
    "x_test = Data_User[\"x_test_fold\"]"
   ]
  },
  {
   "cell_type": "code",
   "execution_count": null,
   "metadata": {},
   "outputs": [],
   "source": [
    "# Deep Neural Netowrk\n",
    "\n",
    "# Parameters\n",
    "act_fun = LeakyReLU(negative_slope=0.1)\n",
    "act_fun_out = 'softmax'\n",
    "L2 = 0.0005\n",
    "\n",
    "# Architecture \n",
    "input1 = Input(shape=(x_test[0,:].shape[0],), name='x_0')\n",
    "\n",
    "x_1 = Dense(256, activation=act_fun, name='x_1',\n",
    "            kernel_initializer=initializers.HeNormal(),\n",
    "            bias_initializer=initializers.Zeros(),\n",
    "            kernel_regularizer=regularizers.L2(L2))(input1)\n",
    "x_1D = Dropout(0.2)(x_1)\n",
    "\n",
    "x_2 = Dense(128, activation=act_fun, name='x_2',\n",
    "            kernel_initializer=initializers.HeNormal(),\n",
    "            bias_initializer=initializers.Zeros(),\n",
    "            kernel_regularizer=regularizers.L2(L2))(x_1D)\n",
    "x_2D = Dropout(0.2)(x_2)\n",
    "\n",
    "x_3 = Dense(64, activation=act_fun, name='x_3',\n",
    "            kernel_initializer=initializers.HeNormal(),\n",
    "            bias_initializer=initializers.Zeros(),\n",
    "            kernel_regularizer=regularizers.L2(L2))(x_2D)\n",
    "x_3D = Dropout(0.2)(x_3)\n",
    "\n",
    "x_4 = Dense(32, activation=act_fun, name='x_4',\n",
    "            kernel_initializer=initializers.HeNormal(),\n",
    "            bias_initializer=initializers.Zeros(),\n",
    "            kernel_regularizer=regularizers.L2(L2))(x_3D)\n",
    "x_4D = Dropout(0.1)(x_4)\n",
    "\n",
    "x_5 = Dense(16, activation=act_fun, name='x_5',\n",
    "            kernel_initializer=initializers.HeNormal(),\n",
    "            bias_initializer=initializers.Zeros(),\n",
    "            kernel_regularizer=regularizers.L2(L2))(x_4D)\n",
    "x_5D = Dropout(0.1)(x_5)\n",
    "\n",
    "x_6 = Dense(8, activation=act_fun, name='x_6',\n",
    "            kernel_initializer=initializers.HeNormal(),\n",
    "            bias_initializer=initializers.Zeros(),\n",
    "            kernel_regularizer=regularizers.L2(L2))(x_5D)\n",
    "x_6D = Dropout(0.1)(x_6)\n",
    "\n",
    "x_7 = Dense(4, activation=act_fun, name='x_7',\n",
    "            kernel_initializer=initializers.HeNormal(),\n",
    "            bias_initializer=initializers.Zeros(),\n",
    "            kernel_regularizer=regularizers.L2(L2))(x_6D)\n",
    "\n",
    "x_8 = Dense(2, activation=act_fun, name='x_8',\n",
    "            kernel_initializer=initializers.HeNormal(),\n",
    "            bias_initializer=initializers.Zeros(),\n",
    "            kernel_regularizer=regularizers.L2(L2))(x_7)\n",
    "\n",
    "x_9 = Dense(2, activation=act_fun_out, name='x_9',\n",
    "            kernel_initializer=initializers.HeNormal(),\n",
    "            bias_initializer=initializers.Zeros(),\n",
    "            kernel_regularizer=regularizers.L2(L2))(x_8)\n",
    "\n",
    "DNN = Model(inputs=input1, outputs=x_9)"
   ]
  },
  {
   "cell_type": "code",
   "execution_count": null,
   "metadata": {},
   "outputs": [],
   "source": [
    "# Load checkpoints\n",
    "Checkpoint_ID1 = os.path.join(\"Checkpoint1.weights.h5\")\n",
    "DNN_ckpt1 = DNN;\n",
    "DNN_ckpt1.load_weights(Checkpoint_ID1);\n",
    "\n",
    "Checkpoint_ID2 = os.path.join(\"Checkpoint2.weights.h5\")\n",
    "DNN_ckpt2 = DNN;\n",
    "DNN_ckpt2.load_weights(Checkpoint_ID2);\n",
    "\n",
    "Checkpoint_ID3 = os.path.join(\"Checkpoint3.weights.h5\")\n",
    "DNN_ckpt3 = DNN;\n",
    "DNN_ckpt3.load_weights(Checkpoint_ID3);\n",
    "\n",
    "Checkpoint_ID4 = os.path.join(\"Checkpoint4.weights.h5\")\n",
    "DNN_ckpt4 = DNN;\n",
    "DNN_ckpt4.load_weights(Checkpoint_ID4);\n",
    "\n",
    "Checkpoint_ID5 = os.path.join(\"Checkpoint5.weights.h5\")\n",
    "DNN_ckpt5 = DNN;\n",
    "DNN_ckpt5.load_weights(Checkpoint_ID5);"
   ]
  },
  {
   "cell_type": "code",
   "execution_count": null,
   "metadata": {},
   "outputs": [],
   "source": [
    "# Estimations\n",
    "Test_Est1 = DNN_ckpt1.predict(x_test[0,:].reshape(1, -1), verbose=0)\n",
    "Test_Est2 = DNN_ckpt2.predict(x_test[1,:].reshape(1, -1), verbose=0)\n",
    "Test_Est3 = DNN_ckpt3.predict(x_test[2,:].reshape(1, -1), verbose=0)\n",
    "Test_Est4 = DNN_ckpt4.predict(x_test[3,:].reshape(1, -1), verbose=0)\n",
    "Test_Est5 = DNN_ckpt5.predict(x_test[4,:].reshape(1, -1), verbose=0)\n",
    "\n",
    "predictions = np.array([Test_Est1, Test_Est2, Test_Est3, Test_Est4, Test_Est5])\n",
    "\n",
    "# Mean\n",
    "Test_Est = np.mean(predictions, axis=0)\n",
    "\n",
    "# Uncertainty\n",
    "Test_Est_Unc = np.std(predictions, axis=0)"
   ]
  },
  {
   "cell_type": "code",
   "execution_count": null,
   "metadata": {},
   "outputs": [],
   "source": [
    "# Print results\n",
    "print(f\"Probability for Unaff-Min (0–9% Damage): {Test_Est[0,1]*100:.1f}% ± {Test_Est_Unc[0,1]*100:.1f}%\")\n",
    "print(f\"Probability for Mod-Sev   (>10% Damage): {Test_Est[0,0]*100:.1f}% ± {Test_Est_Unc[0,0]*100:.1f}%\")"
   ]
  },
  {
   "cell_type": "code",
   "execution_count": null,
   "metadata": {},
   "outputs": [],
   "source": []
  },
  {
   "cell_type": "code",
   "execution_count": null,
   "metadata": {},
   "outputs": [],
   "source": []
  },
  {
   "cell_type": "code",
   "execution_count": null,
   "metadata": {},
   "outputs": [],
   "source": []
  }
 ],
 "metadata": {
  "kernelspec": {
   "display_name": "Python [conda env:base] *",
   "language": "python",
   "name": "conda-base-py"
  },
  "language_info": {
   "codemirror_mode": {
    "name": "ipython",
    "version": 3
   },
   "file_extension": ".py",
   "mimetype": "text/x-python",
   "name": "python",
   "nbconvert_exporter": "python",
   "pygments_lexer": "ipython3",
   "version": "3.12.7"
  }
 },
 "nbformat": 4,
 "nbformat_minor": 4
}
